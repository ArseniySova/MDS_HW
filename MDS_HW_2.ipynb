{
  "nbformat": 4,
  "nbformat_minor": 0,
  "metadata": {
    "colab": {
      "name": "MDS - HW_2",
      "provenance": [],
      "collapsed_sections": []
    },
    "kernelspec": {
      "name": "python3",
      "display_name": "Python 3"
    }
  },
  "cells": [
    {
      "cell_type": "markdown",
      "metadata": {
        "id": "0GqOe7g9s2Ej"
      },
      "source": [
        "# Домашнее задание \"Линейная алгебра. Матрицы\"."
      ]
    },
    {
      "cell_type": "markdown",
      "metadata": {
        "id": "FrUjC50aWZde"
      },
      "source": [
        "### Уровень 0:"
      ]
    },
    {
      "cell_type": "markdown",
      "metadata": {
        "id": "ZWhnXj4IV0Wr"
      },
      "source": [
        "- Создайте матрицу 3 на 3, заполненную числами от 1 до 9\n",
        "- Прибавьте к ней матрицу с единицами на диагонале\n",
        "- Умножьте полученную матрицу на вектор (1, 2, 3)\n",
        "- Посчитайте обратную матрицу к полученной матрице"
      ]
    },
    {
      "cell_type": "code",
      "metadata": {
        "id": "gS-1dJ51Vz3k"
      },
      "source": [
        "import numpy as np"
      ],
      "execution_count": 8,
      "outputs": []
    },
    {
      "cell_type": "code",
      "metadata": {
        "id": "610cPEliVyU5",
        "colab": {
          "base_uri": "https://localhost:8080/"
        },
        "outputId": "79abb939-fe07-4da6-bfed-0e61b0bd2fec"
      },
      "source": [
        "A = np.array(([1,2,3],[4,5,6],[7,8,9]))\n",
        "print(A)"
      ],
      "execution_count": 9,
      "outputs": [
        {
          "output_type": "stream",
          "text": [
            "[[1 2 3]\n",
            " [4 5 6]\n",
            " [7 8 9]]\n"
          ],
          "name": "stdout"
        }
      ]
    },
    {
      "cell_type": "code",
      "metadata": {
        "id": "iVpsXsL7Vz1b",
        "colab": {
          "base_uri": "https://localhost:8080/"
        },
        "outputId": "01382112-2fd2-4570-dfa5-f6631cfc50fc"
      },
      "source": [
        "# Прибавьте к ней матрицу с единицами на диагонали\n",
        "B = np.eye(3)\n",
        "print(B)\n",
        "\n",
        "C = A + B \n",
        "print(C)"
      ],
      "execution_count": 10,
      "outputs": [
        {
          "output_type": "stream",
          "text": [
            "[[1. 0. 0.]\n",
            " [0. 1. 0.]\n",
            " [0. 0. 1.]]\n",
            "[[ 2.  2.  3.]\n",
            " [ 4.  6.  6.]\n",
            " [ 7.  8. 10.]]\n"
          ],
          "name": "stdout"
        }
      ]
    },
    {
      "cell_type": "code",
      "metadata": {
        "id": "iQJSMBcrVz5q",
        "colab": {
          "base_uri": "https://localhost:8080/"
        },
        "outputId": "95ce7e8d-c2c4-4a8f-9102-8fe0e4bb5060"
      },
      "source": [
        "# Умножаем на вектор (1, 2, 3)\n",
        "V = np.array([1, 2, 3])\n",
        "print(V)\n",
        "\n",
        "D = np.dot(C, V)\n",
        "print(D)\n",
        "# Или \n",
        "D2 = C @ V \n",
        "print(D)"
      ],
      "execution_count": 11,
      "outputs": [
        {
          "output_type": "stream",
          "text": [
            "[1 2 3]\n",
            "[15. 34. 53.]\n",
            "[15. 34. 53.]\n"
          ],
          "name": "stdout"
        }
      ]
    },
    {
      "cell_type": "code",
      "metadata": {
        "id": "h18YE0kdVz7r",
        "colab": {
          "base_uri": "https://localhost:8080/"
        },
        "outputId": "4a8231ae-6198-4c89-f575-bc426c2e83ef"
      },
      "source": [
        "# Обратная матрица от C\n",
        "C_inv = np.linalg.inv(C)\n",
        "C_inv"
      ],
      "execution_count": 12,
      "outputs": [
        {
          "output_type": "execute_result",
          "data": {
            "text/plain": [
              "array([[-6.00000000e+00, -2.00000000e+00,  3.00000000e+00],\n",
              "       [-1.00000000e+00,  5.00000000e-01, -2.33146835e-16],\n",
              "       [ 5.00000000e+00,  1.00000000e+00, -2.00000000e+00]])"
            ]
          },
          "metadata": {
            "tags": []
          },
          "execution_count": 12
        }
      ]
    },
    {
      "cell_type": "markdown",
      "metadata": {
        "id": "TxHTa_qBYQun"
      },
      "source": [
        "### Уровень 1:"
      ]
    },
    {
      "cell_type": "markdown",
      "metadata": {
        "id": "uOrhZsNFYQxA"
      },
      "source": [
        "Дан объект в 2d пространстве:\n",
        "\n",
        "```\n",
        "import numpy as np\n",
        "import matplotlib.pyplot as plt\n",
        "\n",
        "A = [\n",
        "[-100, -100, 1],\n",
        "[-100, 100, 1],\n",
        "[100, 100, 1],\n",
        "[0, 0, 1],\n",
        "[100, -100, 1],\n",
        "[-100, -100, 1]\n",
        "]\n",
        "\n",
        "A = np.array(A)\n",
        "\n",
        "x = A[:,0]\n",
        "y = A[:,1]\n",
        "plt.plot(x, y)\n",
        "plt.ylim([-200, 200])\n",
        "plt.xlim([-200, 200]) \n",
        "```\n",
        "При помощи матричных операций выполните:\n",
        "- Уменьшить объект в два раза.\n",
        "- Повернуть на 130 градусов.\n",
        "- Отразить объект относительно прямой y=x\n",
        "- Выполнить смещение объекта и масштабирование (применить 2 матрицы трансформаций), смещение на (200, 300) и масштабирование на (0.5, 1,2)"
      ]
    },
    {
      "cell_type": "code",
      "metadata": {
        "id": "W35q_o57ZLn1"
      },
      "source": [
        "import numpy as np\n",
        "import matplotlib.pyplot as plt"
      ],
      "execution_count": 13,
      "outputs": []
    },
    {
      "cell_type": "code",
      "metadata": {
        "id": "HZprKbn0ZNkF",
        "colab": {
          "base_uri": "https://localhost:8080/",
          "height": 286
        },
        "outputId": "03a6bffe-e794-4f3b-b947-f330ae010317"
      },
      "source": [
        "A = np.array([\n",
        "[-100, -100, 1],\n",
        "[-100, 100, 1],\n",
        "[100, 100, 1],\n",
        "[0, 0, 1],\n",
        "[100, -100, 1],\n",
        "[-100, -100, 1]\n",
        "])\n",
        "\n",
        "x = A[:,0]\n",
        "y = A[:,1]\n",
        "plt.plot(x, y, color='b')\n",
        "\n",
        "plt.ylim([-200, 200])\n",
        "plt.xlim([-200, 200])"
      ],
      "execution_count": 18,
      "outputs": [
        {
          "output_type": "execute_result",
          "data": {
            "text/plain": [
              "(-200.0, 200.0)"
            ]
          },
          "metadata": {
            "tags": []
          },
          "execution_count": 18
        },
        {
          "output_type": "display_data",
          "data": {
            "image/png": "[encoded data removed]",
            "text/plain": [
              "<Figure size 432x288 with 1 Axes>"
            ]
          },
          "metadata": {
            "tags": [],
            "needs_background": "light"
          }
        }
      ]
    },
    {
      "cell_type": "markdown",
      "metadata": {
        "id": "R3PO21w9Y0XF"
      },
      "source": [
        "*Уменьшить объект в два раза.*"
      ]
    },
    {
      "cell_type": "code",
      "metadata": {
        "id": "wukH7cGLVz9v",
        "colab": {
          "base_uri": "https://localhost:8080/"
        },
        "outputId": "5dbc8aa4-f302-4aa6-d334-6c66017dd0a8"
      },
      "source": [
        "TransformArray = np.array([\n",
        "    [0.5, 0, 0],\n",
        "    [0, 0.5, 0],\n",
        "    [0, 0, 1]\n",
        "])\n",
        "\n",
        "B = []\n",
        "for point in A:\n",
        "    new_point=np.dot(TransformArray,np.transpose(point))\n",
        "    B.append(new_point)\n",
        "B = np.array(B).astype(int)\n",
        "print(B)"
      ],
      "execution_count": 19,
      "outputs": [
        {
          "output_type": "stream",
          "text": [
            "[[-50 -50   1]\n",
            " [-50  50   1]\n",
            " [ 50  50   1]\n",
            " [  0   0   1]\n",
            " [ 50 -50   1]\n",
            " [-50 -50   1]]\n"
          ],
          "name": "stdout"
        }
      ]
    },
    {
      "cell_type": "code",
      "metadata": {
        "id": "N0HkYSy-ZhfY",
        "colab": {
          "base_uri": "https://localhost:8080/",
          "height": 286
        },
        "outputId": "04f1b4c2-7b6a-4f95-e311-df0848963f0c"
      },
      "source": [
        "x = A[:,0]\n",
        "y = A[:,1]\n",
        "plt.plot(x, y, color='r')\n",
        "\n",
        "x = B[:,0]\n",
        "y = B[:,1]\n",
        "plt.plot(x, y, color='b')\n",
        "\n",
        "plt.ylim([-200, 200])\n",
        "plt.xlim([-200, 300])\n",
        "plt.legend(['Исходный', 'Новый'])"
      ],
      "execution_count": 20,
      "outputs": [
        {
          "output_type": "execute_result",
          "data": {
            "text/plain": [
              "<matplotlib.legend.Legend at 0x7f07bc371510>"
            ]
          },
          "metadata": {
            "tags": []
          },
          "execution_count": 20
        },
        {
          "output_type": "display_data",
          "data": {
            "image/png": "[encoded data removed]",
            "text/plain": [
              "<Figure size 432x288 with 1 Axes>"
            ]
          },
          "metadata": {
            "tags": [],
            "needs_background": "light"
          }
        }
      ]
    },
    {
      "cell_type": "markdown",
      "metadata": {
        "id": "09kTgbGHY71T"
      },
      "source": [
        "*Повернуть на 130 градусов.*"
      ]
    },
    {
      "cell_type": "code",
      "metadata": {
        "id": "ykPtI1HuYy7l",
        "colab": {
          "base_uri": "https://localhost:8080/"
        },
        "outputId": "76280168-cd00-4e51-d010-7ce8d1cfd958"
      },
      "source": [
        "from math import cos, sin, pi\n",
        "\n",
        "theta = 130 * pi/180\n",
        "TransformArray = np.array([\n",
        "    [cos(theta), sin(theta), 0],\n",
        "    [-sin(theta), cos(theta), 0],\n",
        "    [0, 0, 1]\n",
        "])\n",
        "\n",
        "B = []\n",
        "for point in A:\n",
        "    new_point=np.dot(TransformArray,np.transpose(point))\n",
        "    B.append(new_point)\n",
        "B = np.array(B).astype(int)\n",
        "print(B)"
      ],
      "execution_count": 21,
      "outputs": [
        {
          "output_type": "stream",
          "text": [
            "[[ -12  140    1]\n",
            " [ 140   12    1]\n",
            " [  12 -140    1]\n",
            " [   0    0    1]\n",
            " [-140  -12    1]\n",
            " [ -12  140    1]]\n"
          ],
          "name": "stdout"
        }
      ]
    },
    {
      "cell_type": "code",
      "metadata": {
        "id": "b085eYCBZxG3",
        "colab": {
          "base_uri": "https://localhost:8080/",
          "height": 504
        },
        "outputId": "73ddd1ca-5e11-47bc-f544-f52c35ea5f65"
      },
      "source": [
        "plt.figure(figsize=(8, 8))\n",
        "\n",
        "x = A[:,0]\n",
        "y = A[:,1]\n",
        "plt.plot(x, y, color='r')\n",
        "\n",
        "x = B[:,0]\n",
        "y = B[:,1]\n",
        "plt.plot(x, y, color='b')\n",
        "\n",
        "plt.ylim([-200, 200])\n",
        "plt.xlim([-200, 200])\n",
        "plt.legend(['Исходный', 'Новый'])"
      ],
      "execution_count": 22,
      "outputs": [
        {
          "output_type": "execute_result",
          "data": {
            "text/plain": [
              "<matplotlib.legend.Legend at 0x7f07bc2eefd0>"
            ]
          },
          "metadata": {
            "tags": []
          },
          "execution_count": 22
        },
        {
          "output_type": "display_data",
          "data": {
            "image/png": "[encoded data removed]",
            "text/plain": [
              "<Figure size 576x576 with 1 Axes>"
            ]
          },
          "metadata": {
            "tags": [],
            "needs_background": "light"
          }
        }
      ]
    },
    {
      "cell_type": "markdown",
      "metadata": {
        "id": "qGqfZ1KZY-PM"
      },
      "source": [
        "*Отразить объект относительно прямой y=x.*"
      ]
    },
    {
      "cell_type": "code",
      "metadata": {
        "id": "gKx1wp-sYy9u",
        "colab": {
          "base_uri": "https://localhost:8080/"
        },
        "outputId": "1b0a4358-c47e-40e3-dd47-6f12951811a3"
      },
      "source": [
        "TransformArray= np.array([\n",
        "     [0, 1, 0],\n",
        "     [1, 0, 0],\n",
        "     [0, 0, 1]\n",
        "])\n",
        "\n",
        "B = []\n",
        "for point in A:\n",
        "    new_point=np.dot(TransformArray,np.transpose(point))\n",
        "    B.append(new_point)\n",
        "B = np.array(B).astype(int)\n",
        "print(B)"
      ],
      "execution_count": 23,
      "outputs": [
        {
          "output_type": "stream",
          "text": [
            "[[-100 -100    1]\n",
            " [ 100 -100    1]\n",
            " [ 100  100    1]\n",
            " [   0    0    1]\n",
            " [-100  100    1]\n",
            " [-100 -100    1]]\n"
          ],
          "name": "stdout"
        }
      ]
    },
    {
      "cell_type": "code",
      "metadata": {
        "id": "Lmb7fa8hZ19l",
        "colab": {
          "base_uri": "https://localhost:8080/",
          "height": 504
        },
        "outputId": "74b14c98-ad90-430d-9193-fec1c2f0f242"
      },
      "source": [
        "plt.figure(figsize=(8, 8))\n",
        "\n",
        "x = A[:,0]\n",
        "y = A[:,1]\n",
        "plt.plot(x, y, color='r')\n",
        "\n",
        "x = B[:,0]\n",
        "y = B[:,1]\n",
        "plt.plot(x, y, color='b')\n",
        "\n",
        "plt.ylim([-200, 200])\n",
        "plt.xlim([-200, 200])\n",
        "plt.legend(['Исходный', 'Новый'])"
      ],
      "execution_count": 24,
      "outputs": [
        {
          "output_type": "execute_result",
          "data": {
            "text/plain": [
              "<matplotlib.legend.Legend at 0x7f07bc33e0d0>"
            ]
          },
          "metadata": {
            "tags": []
          },
          "execution_count": 24
        },
        {
          "output_type": "display_data",
          "data": {
            "image/png": "[encoded data removed]",
            "text/plain": [
              "<Figure size 576x576 with 1 Axes>"
            ]
          },
          "metadata": {
            "tags": [],
            "needs_background": "light"
          }
        }
      ]
    },
    {
      "cell_type": "markdown",
      "metadata": {
        "id": "oXZ-xKH4Y8XV"
      },
      "source": [
        "*Выполнить смещение объекта и масштабирование (применить 2 матрицы трансформаций), смещение на (200, 300) и масштабирование на (0.5, 1,2).*"
      ]
    },
    {
      "cell_type": "code",
      "metadata": {
        "id": "y2O66jyuYy_8",
        "colab": {
          "base_uri": "https://localhost:8080/"
        },
        "outputId": "a6185f5e-b4d8-4789-a48f-e57348168364"
      },
      "source": [
        "B = A + [200,300, 0]\n",
        "print(B)"
      ],
      "execution_count": 25,
      "outputs": [
        {
          "output_type": "stream",
          "text": [
            "[[100 200   1]\n",
            " [100 400   1]\n",
            " [300 400   1]\n",
            " [200 300   1]\n",
            " [300 200   1]\n",
            " [100 200   1]]\n"
          ],
          "name": "stdout"
        }
      ]
    },
    {
      "cell_type": "code",
      "metadata": {
        "id": "KULlkzSQbA9h",
        "colab": {
          "base_uri": "https://localhost:8080/",
          "height": 504
        },
        "outputId": "9469972a-d267-49ac-d1a6-1009f46343dd"
      },
      "source": [
        "plt.figure(figsize=(8, 8))\n",
        "\n",
        "x = A[:,0]\n",
        "y = A[:,1]\n",
        "plt.plot(x, y, color='r')\n",
        "\n",
        "x = B[:,0]\n",
        "y = B[:,1]\n",
        "plt.plot(x, y, color='b')\n",
        "\n",
        "plt.ylim([-200, 500])\n",
        "plt.xlim([-200, 500])\n",
        "plt.legend(['Исходный', 'Новый'])"
      ],
      "execution_count": 26,
      "outputs": [
        {
          "output_type": "execute_result",
          "data": {
            "text/plain": [
              "<matplotlib.legend.Legend at 0x7f07bc24cc50>"
            ]
          },
          "metadata": {
            "tags": []
          },
          "execution_count": 26
        },
        {
          "output_type": "display_data",
          "data": {
            "image/png": "[encoded data removed]",
            "text/plain": [
              "<Figure size 576x576 with 1 Axes>"
            ]
          },
          "metadata": {
            "tags": [],
            "needs_background": "light"
          }
        }
      ]
    },
    {
      "cell_type": "code",
      "metadata": {
        "id": "2UbVBWIVbC9t",
        "colab": {
          "base_uri": "https://localhost:8080/"
        },
        "outputId": "c613cf19-04be-4a5d-80e0-d5954764dce5"
      },
      "source": [
        "TransformArray = np.array([\n",
        "    [0.5, 0, 0],\n",
        "    [0, 1.2, 0],\n",
        "    [0, 0, 1]\n",
        "])\n",
        "\n",
        "C = []\n",
        "for point in B:\n",
        "    new_point=np.dot(TransformArray,np.transpose(point))\n",
        "    C.append(new_point)\n",
        "C = np.array(C).astype(int)\n",
        "print(C)"
      ],
      "execution_count": 27,
      "outputs": [
        {
          "output_type": "stream",
          "text": [
            "[[ 50 240   1]\n",
            " [ 50 480   1]\n",
            " [150 480   1]\n",
            " [100 360   1]\n",
            " [150 240   1]\n",
            " [ 50 240   1]]\n"
          ],
          "name": "stdout"
        }
      ]
    },
    {
      "cell_type": "code",
      "metadata": {
        "id": "sLAQ9dpYbDAA",
        "colab": {
          "base_uri": "https://localhost:8080/",
          "height": 504
        },
        "outputId": "37e57324-30e4-4d85-85f8-69bbcfb1ded8"
      },
      "source": [
        "plt.figure(figsize=(8, 8))\n",
        "\n",
        "x = A[:,0]\n",
        "y = A[:,1]\n",
        "plt.plot(x, y, color='r')\n",
        "\n",
        "x = B[:,0]\n",
        "y = B[:,1]\n",
        "plt.plot(x, y, color='b')\n",
        "\n",
        "x = C[:,0]\n",
        "y = C[:,1]\n",
        "plt.plot(x, y, color='g')\n",
        "\n",
        "plt.ylim([-200, 500])\n",
        "plt.xlim([-200, 500])\n",
        "plt.legend(['Исходный', 'Новый - Смещение', 'Новый - Трансформация'])"
      ],
      "execution_count": 28,
      "outputs": [
        {
          "output_type": "execute_result",
          "data": {
            "text/plain": [
              "<matplotlib.legend.Legend at 0x7f07bc250650>"
            ]
          },
          "metadata": {
            "tags": []
          },
          "execution_count": 28
        },
        {
          "output_type": "display_data",
          "data": {
            "image/png": "[encoded data removed]",
            "text/plain": [
              "<Figure size 576x576 with 1 Axes>"
            ]
          },
          "metadata": {
            "tags": [],
            "needs_background": "light"
          }
        }
      ]
    }
  ]
}