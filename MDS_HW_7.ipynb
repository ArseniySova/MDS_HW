{
  "nbformat": 4,
  "nbformat_minor": 0,
  "metadata": {
    "colab": {
      "name": "MDS - HW_7",
      "provenance": [],
      "collapsed_sections": []
    },
    "kernelspec": {
      "name": "python3",
      "display_name": "Python 3"
    }
  },
  "cells": [
    {
      "cell_type": "markdown",
      "metadata": {
        "id": "86dSdXTsuWgJ"
      },
      "source": [
        "# Домашнее задание \"Теория вероятности. Дискретные Случайные Величины\"."
      ]
    },
    {
      "cell_type": "markdown",
      "metadata": {
        "id": "fizZ702AOSnr"
      },
      "source": [
        "### Уровень 0:"
      ]
    },
    {
      "cell_type": "markdown",
      "metadata": {
        "id": "BTakPD1GOTIM"
      },
      "source": [
        "- Задание 1"
      ]
    },
    {
      "cell_type": "markdown",
      "metadata": {
        "id": "Woy0Fj_zOpdI"
      },
      "source": [
        "Монетку подбрасывают 15 раз, найдите вероятность выпадения простого числа орлов."
      ]
    },
    {
      "cell_type": "markdown",
      "metadata": {
        "id": "UPOGrK9FQO9R"
      },
      "source": [
        "Количество экспериментов (n) - 15. \n",
        "\n",
        "Количество простых чисел от 1 до 15 - 6 (2,3,5,7,11,13).\n",
        "\n",
        "Так как броски монет - события независимые (результат броска одной монеты не влияет на последующие броски), вероятность выпадения герба в каждом броске одинакова (и равна p=1/2=0.5), то можно для вычисления вероятности применить формулу Бернулли:\n",
        "\n",
        "p(k) = c*((1/2)**n) = с/32768, где c = n!/(k!*(n-k)!)\n",
        "\n",
        "После чего сложим вероятности всех событий:\n",
        "\n",
        "p = (p(2)+p(3)+p(5)+p(7)+p(11)+p(13))/32768 = 105+455+3003+6435+1365+105 = 11468/32768 = 0,35"
      ]
    },
    {
      "cell_type": "code",
      "metadata": {
        "id": "7dle85Y7P-mr"
      },
      "source": [
        "import math\n",
        "import numpy as np"
      ],
      "execution_count": null,
      "outputs": []
    },
    {
      "cell_type": "code",
      "metadata": {
        "id": "2utawKWDOTcl",
        "colab": {
          "base_uri": "https://localhost:8080/"
        },
        "outputId": "15974d1e-80fc-43a5-f969-ea9eafb604c4"
      },
      "source": [
        "n = 15\n",
        "csum = 0\n",
        "for k in [2,3,5,7,11,13]:\n",
        "    csum += math.factorial(n)/(math.factorial(k)*math.factorial(n-k))\n",
        "\n",
        "print(f'Вероятность выпадения простого числа орлов при 15 подбрасываниях равна {round(csum * 100 / 2**n, 0)} %')"
      ],
      "execution_count": null,
      "outputs": [
        {
          "output_type": "stream",
          "text": [
            "Вероятность выпадения простого числа орлов при 15 подбрасываниях равна 35.0 %\n"
          ],
          "name": "stdout"
        }
      ]
    },
    {
      "cell_type": "markdown",
      "metadata": {
        "id": "ZQd1V-G-CJuq"
      },
      "source": [
        "*Или*"
      ]
    },
    {
      "cell_type": "code",
      "metadata": {
        "id": "R3rYOJ64CJRH",
        "colab": {
          "base_uri": "https://localhost:8080/"
        },
        "outputId": "697d2941-7016-4a34-dd36-e29e287a4061"
      },
      "source": [
        "b = np.random.binomial(15, 0.5, 2**15 * 6)                                                          # 2**15 * 6 = 196608\n",
        "total = sum(b == 2) + sum(b == 3) + sum(b == 5) + sum(b == 7) + sum(b == 11) + sum(b == 13)      # Простые числа до 15\n",
        "print(f'Вероятность выпадения простого числа орлов при 15 подбрасываниях равна {round(total * 100 / (2**15 * 6), 0)} %')"
      ],
      "execution_count": null,
      "outputs": [
        {
          "output_type": "stream",
          "text": [
            "Вероятность выпадения простого числа орлов при 15 подбрасываниях равна 35.0 %\n"
          ],
          "name": "stdout"
        }
      ]
    },
    {
      "cell_type": "markdown",
      "metadata": {
        "id": "ulIo_2rAOfow"
      },
      "source": [
        "- Задание 2"
      ]
    },
    {
      "cell_type": "markdown",
      "metadata": {
        "id": "Ocjt_k0dOw3i"
      },
      "source": [
        "Создайте свою дискретную случайную величину с не менее, чем 10 значениями. \n",
        "Просемплируйте 1000 случайных значений, постройте гистограмму плотности распределения по выборке, посчитайте среднее, дисперсию и медиану."
      ]
    },
    {
      "cell_type": "code",
      "metadata": {
        "id": "xqYuJL7yOTkm"
      },
      "source": [
        "import matplotlib.pyplot as plt\n",
        "import numpy as np"
      ],
      "execution_count": null,
      "outputs": []
    },
    {
      "cell_type": "code",
      "metadata": {
        "id": "2FxZarjTOTmu"
      },
      "source": [
        "sample = np.random.randint(0, 10, 1000)"
      ],
      "execution_count": null,
      "outputs": []
    },
    {
      "cell_type": "code",
      "metadata": {
        "id": "UTR12FyHORjk",
        "colab": {
          "base_uri": "https://localhost:8080/",
          "height": 265
        },
        "outputId": "4bf0a02b-d7d3-4695-d714-da7d6e113009"
      },
      "source": [
        "plt.hist(sample)\n",
        "plt.show()"
      ],
      "execution_count": null,
      "outputs": [
        {
          "output_type": "display_data",
          "data": {
            "image/png": "[encoded data removed]",
            "text/plain": [
              "<Figure size 432x288 with 1 Axes>"
            ]
          },
          "metadata": {
            "tags": [],
            "needs_background": "light"
          }
        }
      ]
    },
    {
      "cell_type": "code",
      "metadata": {
        "id": "ZnJAyUNXQ9bz",
        "colab": {
          "base_uri": "https://localhost:8080/"
        },
        "outputId": "258a3078-372a-4181-f22b-e9b0f93e814e"
      },
      "source": [
        "print(f'Среднее: {sample.mean()}',\n",
        "      f'Дисперсия: {sample.var()}',\n",
        "      f'Медиана: {np.median(sample)}', sep='\\n')"
      ],
      "execution_count": null,
      "outputs": [
        {
          "output_type": "stream",
          "text": [
            "Среднее: 4.548\n",
            "Дисперсия: 8.493696\n",
            "Медиана: 5.0\n"
          ],
          "name": "stdout"
        }
      ]
    },
    {
      "cell_type": "markdown",
      "metadata": {
        "id": "N7O9QGoeOUIG"
      },
      "source": [
        "### Уровень 1:"
      ]
    },
    {
      "cell_type": "markdown",
      "metadata": {
        "id": "kHsMDOzoOUKP"
      },
      "source": [
        "- Задание 3"
      ]
    },
    {
      "cell_type": "markdown",
      "metadata": {
        "id": "ECGQD2HhPD4D"
      },
      "source": [
        "Пусть брошены 3 уравновешенные монеты.\n",
        "\n",
        "Рассмотрим 3 события:\n",
        "\n",
        "- A1 - монеты 1 и 2 упали одной и той же стороной,\n",
        "- A2 - монеты 2 и 3 упали одной и той же стороной,\n",
        "- A3 - монеты 1 и 3 упали одной и той же стороной.\n",
        "\n",
        "Покажите, почему эти 3 события (A1, A2, A3) являются попарно независимыми, но не являются независимыми в совокупности.\n"
      ]
    },
    {
      "cell_type": "markdown",
      "metadata": {
        "id": "ex_z6tRLPKCK"
      },
      "source": [
        "### *Объяснение*\n",
        "*Они будут попано независимыми, так как любое из событий содержит в себе по одному подкидыванию двух монеток. Любое второе событие, по сути, добавляет бросок третьей монеты, никак не зависящий от первых двух. А вот если добавить третье событие - все результаты подбрасываний уже определены, соответсвенно, третье событие неизбежно оказывается зависимым от первых двух.*"
      ]
    },
    {
      "cell_type": "markdown",
      "metadata": {
        "id": "D6EJKouL53U5"
      },
      "source": [
        "Попарная независимость:\n",
        "\n",
        "$P(A_1 \\cap A_2) = P(A_1) * P(A_2)$\n",
        "\n",
        "$P(A_1)= P(A_2) = 1/2$ - нас устраивают два события из четырех возможных исходов\n",
        "\n",
        "$P(A_1 \\cap A_2) = 2/8 $ - вероятность наступления двух событий одновременно возможно. когда все три монеты упали одной и той же стороной. А это два из восьми возможных событий. Проверяем равенство:\n",
        "\n",
        "$\\frac{1}{2} * \\frac{1}{2}  = \\frac{2}{8};$ $\\frac{1}{4} = \\frac{1}{4}$\n",
        "\n",
        "то есть события независимы.\n",
        "\n",
        "Для событий $P(A_1)$ и $P(A_3)$; $P(A_2)$ и $P(A_3)$ рассуждения аналогичны\n",
        "\n",
        "Проверяем независимость в совокупности:\n",
        "\n",
        "$P(A_1 \\cap A_2 \\cap A_3) = P(A_1) * P(A_2)  * P(A_3)$\n",
        "\n",
        "$P(A_1)= P(A_2) = P(A_2) = 1/2$\n",
        "\n",
        "$P(A_1 \\cap A_2 \\cap A_3) = 2/8 $ - нас опять устраивает только два события из восьми, кода все три монеты выпадают или орлом, или решкой.\n",
        "\n",
        "Проверяем равенство:\n",
        "\n",
        "$P(A_1) * P(A_2)  * P(A_3) = \\frac{1}{2} * \\frac{1}{2} * \\frac{1}{2} =  \\frac{1}{8}$\n",
        "\n",
        "$P(A_1 \\cap A_2 \\cap A_3) = \\frac{1}{4}$\n",
        "\n",
        "$\\frac{1}{8} \\neq \\frac{1}{4}$\n",
        "\n",
        "то есть события не являются независимыми в совокупности."
      ]
    },
    {
      "cell_type": "markdown",
      "metadata": {
        "id": "xhzT8jUfOg5j"
      },
      "source": [
        "- Задание 4"
      ]
    },
    {
      "cell_type": "markdown",
      "metadata": {
        "id": "4kfGktJ_Pklt"
      },
      "source": [
        "В магазин привезли устройства с 3-х разных предприятий. Соотношение устройств следующее:\n",
        "20% - продукция первого предприятия, 30% - продукция второго предприятия, 50% - продукция третьего предприятия; далее, 10% продукции первого предприятия высшего сорта, на втором предприятии - 5% и на третьем - 20% продукции высшего сорта. Найти вероятность того, что случайно купленная новая продукция окажется высшего сорта.\n"
      ]
    },
    {
      "cell_type": "code",
      "metadata": {
        "id": "5Vhdp_AsOUf3",
        "colab": {
          "base_uri": "https://localhost:8080/"
        },
        "outputId": "2a9ac029-b557-493e-d090-84ad79ec98d0"
      },
      "source": [
        "p1 = 0.1\n",
        "p2 = 0.05\n",
        "p3 = 0.2\n",
        "\n",
        "# Вычислим вероятность события с учётом разного количества товара:\n",
        "x = 0.2 * p1 + 0.3 * p2 + 0.5 * p3\n",
        "print(x * 100, '%')"
      ],
      "execution_count": null,
      "outputs": [
        {
          "output_type": "stream",
          "text": [
            "13.5 %\n"
          ],
          "name": "stdout"
        }
      ]
    }
  ]
}