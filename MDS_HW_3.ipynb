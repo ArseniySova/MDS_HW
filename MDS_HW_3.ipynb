{
  "nbformat": 4,
  "nbformat_minor": 0,
  "metadata": {
    "colab": {
      "name": "MDS - HW_3",
      "provenance": [],
      "collapsed_sections": [],
      "toc_visible": true
    },
    "kernelspec": {
      "name": "python3",
      "display_name": "Python 3"
    }
  },
  "cells": [
    {
      "cell_type": "markdown",
      "metadata": {
        "id": "6JK9JI75bzun"
      },
      "source": [
        "### Уровень 0:"
      ]
    },
    {
      "cell_type": "markdown",
      "metadata": {
        "id": "glCREB4db0fn"
      },
      "source": [
        "Придумайте матрицы, которые обладают следующими свойствами:\n",
        "\n",
        "a) диагональная, ортогональная, но не единичная(!)\n",
        "\n",
        "b) верхнетреугольная, ортогональная\n",
        "\n",
        "c) нижнетреугольная, ортогональная\n",
        "\n",
        "d) матрица, у которой определитель = 1, и все элементы не равны 0\n",
        "\n",
        "P.S. Во всех пунктах ответом должна быть ненулевая матрица размерности не менее 2!\n"
      ]
    },
    {
      "cell_type": "markdown",
      "metadata": {
        "id": "q4uEWOHncKGq"
      },
      "source": [
        "\n",
        "Найдите собственные значения и собственные вектора матрицы:\n",
        "\n",
        "```\n",
        "m = np.array([[2, 2],\n",
        "              [1, 3]])\n",
        "print(m)\n",
        "```"
      ]
    },
    {
      "cell_type": "code",
      "metadata": {
        "id": "RW1Zdx6IbyBv"
      },
      "source": [
        "import numpy as np\n",
        "import pandas as pd"
      ],
      "execution_count": null,
      "outputs": []
    },
    {
      "cell_type": "markdown",
      "metadata": {
        "id": "y4E2M0IKutCX"
      },
      "source": [
        "*Диагональная, ортогональная, но не единичная(!)*"
      ]
    },
    {
      "cell_type": "code",
      "metadata": {
        "id": "lpxPaazIcfYs",
        "colab": {
          "base_uri": "https://localhost:8080/"
        },
        "outputId": "36792ed5-e17b-4813-b516-5877067e1a1b"
      },
      "source": [
        "A = np.array([[-1,0,0],[0,1,0],[0,0,1]]) # A(1,1) != 1 >>> A - не единичная\n",
        "print(A)\n",
        "\n",
        "# Проверка на ортигональность\n",
        "AT = A.transpose()\n",
        "print(A @ AT)"
      ],
      "execution_count": null,
      "outputs": [
        {
          "output_type": "stream",
          "text": [
            "[[-1  0  0]\n",
            " [ 0  1  0]\n",
            " [ 0  0  1]]\n",
            "[[1 0 0]\n",
            " [0 1 0]\n",
            " [0 0 1]]\n"
          ],
          "name": "stdout"
        }
      ]
    },
    {
      "cell_type": "markdown",
      "metadata": {
        "id": "z8142ohMuv2s"
      },
      "source": [
        "*Верхнетреугольная, ортогональная*"
      ]
    },
    {
      "cell_type": "code",
      "metadata": {
        "id": "Hjo7d0D4cfax",
        "colab": {
          "base_uri": "https://localhost:8080/"
        },
        "outputId": "169f4ace-7f93-462c-a2ed-9b50562b1e00"
      },
      "source": [
        "A = np.array([[-1,0,0],[0,1,0],[0,0,1]]) # A(1,1) != 1 >>> A - не единичная\n",
        "print(A)\n",
        "\n",
        "# Проверка на ортигональность\n",
        "AT = A.transpose()\n",
        "print(A @ AT)"
      ],
      "execution_count": null,
      "outputs": [
        {
          "output_type": "stream",
          "text": [
            "[[-1  0  0]\n",
            " [ 0  1  0]\n",
            " [ 0  0  1]]\n",
            "[[1 0 0]\n",
            " [0 1 0]\n",
            " [0 0 1]]\n"
          ],
          "name": "stdout"
        }
      ]
    },
    {
      "cell_type": "markdown",
      "metadata": {
        "id": "ezXBh9JJuzdj"
      },
      "source": [
        "*Нижнетреугольная, ортогональная*"
      ]
    },
    {
      "cell_type": "code",
      "metadata": {
        "id": "O15EiYjDcfct",
        "colab": {
          "base_uri": "https://localhost:8080/"
        },
        "outputId": "7f293e43-0eaf-4217-ec5e-d1dffa9a2c56"
      },
      "source": [
        "A = np.array([[-1,0,0],[0,1,0],[0,0,1]]) # A(1,1) != 1 >>> A - не единичная\n",
        "print(A)\n",
        "\n",
        "# Проверка на ортигональность\n",
        "AT = A.transpose()\n",
        "print(A @ AT)"
      ],
      "execution_count": null,
      "outputs": [
        {
          "output_type": "stream",
          "text": [
            "[[-1  0  0]\n",
            " [ 0  1  0]\n",
            " [ 0  0  1]]\n",
            "[[1 0 0]\n",
            " [0 1 0]\n",
            " [0 0 1]]\n"
          ],
          "name": "stdout"
        }
      ]
    },
    {
      "cell_type": "markdown",
      "metadata": {
        "id": "5KKbXUZGu2G6"
      },
      "source": [
        "*Матрица, у которой определитель = 1, и все элементы не равны 0*"
      ]
    },
    {
      "cell_type": "code",
      "metadata": {
        "id": "VZpkKjzWb04h",
        "colab": {
          "base_uri": "https://localhost:8080/",
          "height": 34
        },
        "outputId": "aad4de76-f965-4937-d90c-186a9af6c8d6"
      },
      "source": [
        "B = np.array([[2,3],[1,2]])\n",
        "np.linalg.det(B)"
      ],
      "execution_count": null,
      "outputs": [
        {
          "output_type": "execute_result",
          "data": {
            "text/plain": [
              "1.0"
            ]
          },
          "metadata": {
            "tags": []
          },
          "execution_count": 10
        }
      ]
    },
    {
      "cell_type": "markdown",
      "metadata": {
        "id": "ZuAb5za1u7xe"
      },
      "source": [
        "*Найдите собственные значения и собственные вектора матрицы:*"
      ]
    },
    {
      "cell_type": "code",
      "metadata": {
        "id": "YTrYiVePb064",
        "colab": {
          "base_uri": "https://localhost:8080/"
        },
        "outputId": "659be5d5-38db-4dd5-c6d8-88aa1ba0a4a1"
      },
      "source": [
        "m = np.array([[2, 2],\n",
        "              [1, 3]])\n",
        "print(m)"
      ],
      "execution_count": null,
      "outputs": [
        {
          "output_type": "stream",
          "text": [
            "[[2 2]\n",
            " [1 3]]\n"
          ],
          "name": "stdout"
        }
      ]
    },
    {
      "cell_type": "code",
      "metadata": {
        "id": "6Oz4p_fkxVMd",
        "colab": {
          "base_uri": "https://localhost:8080/"
        },
        "outputId": "0d745958-afe0-4a87-f5e0-b7d587fbff90"
      },
      "source": [
        "w, v = np.linalg.eig(m)\n",
        "\n",
        "for i in range(len(w)):\n",
        "    print(\"Собственное значение \" + str(w[i]))\n",
        "    print(\"соответствующий ему собственный вектор \" + str(v[:,i]))"
      ],
      "execution_count": null,
      "outputs": [
        {
          "output_type": "stream",
          "text": [
            "Собственное значение 1.0\n",
            "соответствующий ему собственный вектор [-0.89442719  0.4472136 ]\n",
            "Собственное значение 4.0\n",
            "соответствующий ему собственный вектор [-0.70710678 -0.70710678]\n"
          ],
          "name": "stdout"
        }
      ]
    },
    {
      "cell_type": "markdown",
      "metadata": {
        "id": "u8LIAbCgb1Lw"
      },
      "source": [
        "### Уровень 1:"
      ]
    },
    {
      "cell_type": "markdown",
      "metadata": {
        "id": "MOHB7SjHb1OB"
      },
      "source": [
        "Найдите спектральное разложение матрицы:\n",
        "```\n",
        "m = np.array([[1, 2],\n",
        "[2,3]])\n",
        "print(m)\n",
        "```\n",
        "\n"
      ]
    },
    {
      "cell_type": "markdown",
      "metadata": {
        "id": "N1sxZESjcQQC"
      },
      "source": [
        "Постройте зависимость качества восстановления рукописных цифр (MNIST) в зависимости от различного количества компонент PCA. В качестве метрики различия предлагаю использовать MSE. *"
      ]
    },
    {
      "cell_type": "markdown",
      "metadata": {
        "id": "Aa3af8gKcTXb"
      },
      "source": [
        "У PCA есть метод transform и inverse_transofrm. Первый - снижает размерность, второй - восстанавливает оригинальные данные с потерей информации.\n",
        "\n",
        "Надо посчитать насколько в среднем точно восстанавливается оригинальная картинка в зависимости от количества компонент в PCA\n",
        "В качестве справки можно использовать:"
      ]
    },
    {
      "cell_type": "markdown",
      "metadata": {
        "id": "lg6SheLVcT_r"
      },
      "source": [
        "(https://scikit-learn.org/stable/modules/generated/sklearn.decomposition.PCA.html) - документация по PCA\n",
        "(https://scikit-learn.org/stable/modules/generated/sklearn.metrics.mean_squared_error.html) - документация по MSE\n",
        "\t\n",
        "Картинки цифр можно взять отсюда - (https://scikit-learn.org/stable/modules/generated/sklearn.datasets.load_digits.html\n",
        ")\n",
        "\n"
      ]
    },
    {
      "cell_type": "code",
      "metadata": {
        "id": "J-oIUY1Ib1Y5",
        "colab": {
          "base_uri": "https://localhost:8080/"
        },
        "outputId": "aea8f5cb-0b4f-46ed-d707-697e1dfafb41"
      },
      "source": [
        "m = np.array([[1, 2],\n",
        "              [2, 3]])\n",
        "print(m)"
      ],
      "execution_count": null,
      "outputs": [
        {
          "output_type": "stream",
          "text": [
            "[[1 2]\n",
            " [2 3]]\n"
          ],
          "name": "stdout"
        }
      ]
    },
    {
      "cell_type": "markdown",
      "metadata": {
        "id": "SvbzFQ6-G3Zg"
      },
      "source": [
        "Классически"
      ]
    },
    {
      "cell_type": "code",
      "metadata": {
        "id": "mSOsVOoZzQoJ",
        "colab": {
          "base_uri": "https://localhost:8080/"
        },
        "outputId": "bf58f888-bdfe-4a68-bf67-b33c37564c61"
      },
      "source": [
        "eg = np.linalg.eig(m)\n",
        "eg"
      ],
      "execution_count": null,
      "outputs": [
        {
          "output_type": "execute_result",
          "data": {
            "text/plain": [
              "(array([-0.23606798,  4.23606798]), array([[-0.85065081, -0.52573111],\n",
              "        [ 0.52573111, -0.85065081]]))"
            ]
          },
          "metadata": {
            "tags": []
          },
          "execution_count": 62
        }
      ]
    },
    {
      "cell_type": "code",
      "metadata": {
        "id": "QcKY-Milcf7K",
        "colab": {
          "base_uri": "https://localhost:8080/"
        },
        "outputId": "0f9dc5c9-5945-44f4-834e-ca041b67ab48"
      },
      "source": [
        "x = np.array(eg[1])\n",
        "print(x)\n",
        "y = np.diag(eg[0])\n",
        "print(y)\n",
        "z = np.linalg.inv(x)\n",
        "print(z)\n",
        "srm = x.dot(y).dot(z)\n",
        "srm"
      ],
      "execution_count": null,
      "outputs": [
        {
          "output_type": "stream",
          "text": [
            "[[-0.85065081 -0.52573111]\n",
            " [ 0.52573111 -0.85065081]]\n",
            "[[-0.23606798  0.        ]\n",
            " [ 0.          4.23606798]]\n",
            "[[-0.85065081  0.52573111]\n",
            " [-0.52573111 -0.85065081]]\n"
          ],
          "name": "stdout"
        },
        {
          "output_type": "execute_result",
          "data": {
            "text/plain": [
              "array([[1., 2.],\n",
              "       [2., 3.]])"
            ]
          },
          "metadata": {
            "tags": []
          },
          "execution_count": 63
        }
      ]
    },
    {
      "cell_type": "code",
      "metadata": {
        "colab": {
          "base_uri": "https://localhost:8080/"
        },
        "id": "dSpxpkuSG6S1",
        "outputId": "d9582a03-1f08-4c66-f092-d16696dc803e"
      },
      "source": [
        "a, U = np.linalg.eig(m)\n",
        "\n",
        "(U @ np.diag(a)) @ np.linalg.inv(U)"
      ],
      "execution_count": null,
      "outputs": [
        {
          "output_type": "execute_result",
          "data": {
            "text/plain": [
              "array([[1., 2.],\n",
              "       [2., 3.]])"
            ]
          },
          "metadata": {
            "tags": []
          },
          "execution_count": 64
        }
      ]
    },
    {
      "cell_type": "markdown",
      "metadata": {
        "id": "2byE7w2oymi6"
      },
      "source": [
        "*Или через скалярное*"
      ]
    },
    {
      "cell_type": "code",
      "metadata": {
        "id": "YIXnn6FEcf9M",
        "colab": {
          "base_uri": "https://localhost:8080/"
        },
        "outputId": "9e56b92f-01f8-4e6b-8f58-9904544b6c2b"
      },
      "source": [
        "a, U = np.linalg.eig(m)\n",
        "print('Собственные значения:')\n",
        "print(np.array(a, dtype=float))\n",
        "print('\\nСобственные вектора:')\n",
        "print(U)"
      ],
      "execution_count": null,
      "outputs": [
        {
          "output_type": "stream",
          "text": [
            "Собственные значения:\n",
            "[-0.23606798  4.23606798]\n",
            "\n",
            "Собственные вектора:\n",
            "[[-0.85065081 -0.52573111]\n",
            " [ 0.52573111 -0.85065081]]\n"
          ],
          "name": "stdout"
        }
      ]
    },
    {
      "cell_type": "code",
      "metadata": {
        "id": "nIvCtkudb1dG",
        "colab": {
          "base_uri": "https://localhost:8080/"
        },
        "outputId": "0cf0b65b-1b3a-4d68-c38b-76b5d2167386"
      },
      "source": [
        "print(np.array(U.dot(np.diag(a)).dot(U.T), dtype=float))"
      ],
      "execution_count": null,
      "outputs": [
        {
          "output_type": "stream",
          "text": [
            "[[1. 2.]\n",
            " [2. 3.]]\n"
          ],
          "name": "stdout"
        }
      ]
    },
    {
      "cell_type": "code",
      "metadata": {
        "colab": {
          "base_uri": "https://localhost:8080/"
        },
        "id": "anMWUGX11U5d",
        "outputId": "3afc0181-044c-4765-dc47-2a445696bfaa"
      },
      "source": [
        "a, U = np.linalg.eig(m)\n",
        "\n",
        "U @ np.diag(a) @ np.linalg.inv(U)\n",
        "# Или\n",
        "U @ np.diag(a) @ U.T"
      ],
      "execution_count": null,
      "outputs": [
        {
          "output_type": "execute_result",
          "data": {
            "text/plain": [
              "array([[1., 2.],\n",
              "       [2., 3.]])"
            ]
          },
          "metadata": {
            "tags": []
          },
          "execution_count": 3
        }
      ]
    },
    {
      "cell_type": "markdown",
      "metadata": {
        "id": "Bncsqm29zkFC"
      },
      "source": [
        "*Восстановления рукописных цифр (MNIST)*"
      ]
    },
    {
      "cell_type": "code",
      "metadata": {
        "id": "u30xoe8jzr27",
        "colab": {
          "base_uri": "https://localhost:8080/",
          "height": 253
        },
        "outputId": "f6bf04dc-1dd4-4442-f230-5b8ab26c4952"
      },
      "source": [
        "from PIL import Image\n",
        "img = Image.open(\"mnist.jpg\")\n",
        "arr = np.array(img.getdata())\n",
        "img"
      ],
      "execution_count": null,
      "outputs": [
        {
          "output_type": "execute_result",
          "data": {
            "image/png": "[encoded data removed]",
            "text/plain": [
              "<PIL.PngImagePlugin.PngImageFile image mode=L size=236x236 at 0x7F55707D9AC8>"
            ]
          },
          "metadata": {
            "tags": []
          },
          "execution_count": 43
        }
      ]
    },
    {
      "cell_type": "code",
      "metadata": {
        "id": "sKiLN1mDzr5a",
        "colab": {
          "base_uri": "https://localhost:8080/",
          "height": 51
        },
        "outputId": "f8eba07e-4436-469a-fc4e-45f6c8784f4b"
      },
      "source": [
        "print(arr.size)\n",
        "print(arr.size ** 0.5)\n"
      ],
      "execution_count": null,
      "outputs": [
        {
          "output_type": "stream",
          "text": [
            "55696\n",
            "236.0\n"
          ],
          "name": "stdout"
        }
      ]
    },
    {
      "cell_type": "code",
      "metadata": {
        "id": "snJ-Ebjczr7t",
        "colab": {
          "base_uri": "https://localhost:8080/",
          "height": 136
        },
        "outputId": "76d4e823-d165-40cc-a109-4a70ed8c7b5b"
      },
      "source": [
        "x = np.resize(arr, (236, 236))\n",
        "x"
      ],
      "execution_count": null,
      "outputs": [
        {
          "output_type": "execute_result",
          "data": {
            "text/plain": [
              "array([[255, 255, 255, ..., 255, 255, 255],\n",
              "       [255, 255, 255, ..., 255, 255, 255],\n",
              "       [255, 255, 255, ..., 255, 255, 255],\n",
              "       ...,\n",
              "       [255, 255, 255, ..., 255, 255, 255],\n",
              "       [255, 255, 255, ..., 255, 255, 255],\n",
              "       [255, 255, 255, ..., 255, 255, 255]])"
            ]
          },
          "metadata": {
            "tags": []
          },
          "execution_count": 45
        }
      ]
    },
    {
      "cell_type": "code",
      "metadata": {
        "id": "p4ndB-o62fe8"
      },
      "source": [
        "from sklearn.decomposition import PCA\n",
        "from sklearn.metrics import mean_squared_error as mse\n",
        "\n",
        "i = 1\n",
        "res = []\n",
        "while i <= 100:\n",
        "  pca = PCA(n_components = i)\n",
        "  reduced = pca.fit_transform(x)\n",
        "  y = pca.inverse_transform(reduced)\n",
        "  m = mse(x, y)\n",
        "  res.append(m)\n",
        "  i += 1"
      ],
      "execution_count": null,
      "outputs": []
    },
    {
      "cell_type": "code",
      "metadata": {
        "id": "NqgucEEw2fhi",
        "colab": {
          "base_uri": "https://localhost:8080/",
          "height": 497
        },
        "outputId": "57333a69-cbcc-4d8c-a8d0-f1720b9bf0dd"
      },
      "source": [
        "import matplotlib.pyplot as plt\n",
        "plt.figure(figsize=(20,8))\n",
        "plt.plot(res)\n",
        "plt.xlabel('Размерность')\n",
        "plt.ylabel('MSE')\n",
        "plt.show()"
      ],
      "execution_count": null,
      "outputs": [
        {
          "output_type": "display_data",
          "data": {
            "image/png": "[encoded data removed]",
            "text/plain": [
              "<Figure size 1440x576 with 1 Axes>"
            ]
          },
          "metadata": {
            "tags": [],
            "needs_background": "light"
          }
        }
      ]
    },
    {
      "cell_type": "markdown",
      "metadata": {
        "id": "0ihJu7ox2sYi"
      },
      "source": [
        "*Альтернативный вариант*"
      ]
    },
    {
      "cell_type": "code",
      "metadata": {
        "id": "hSHLIX-u2xX6"
      },
      "source": [
        "from sklearn.decomposition import PCA\n",
        "from sklearn.metrics import mean_squared_error as MSE\n",
        "from matplotlib import pyplot as plt\n",
        "from sklearn.datasets import load_digits\n",
        "\n",
        "digits = load_digits()"
      ],
      "execution_count": null,
      "outputs": []
    },
    {
      "cell_type": "code",
      "metadata": {
        "id": "4TEjv-yr3rIp"
      },
      "source": [
        "digits = digits['data'].reshape(1797,8,8)"
      ],
      "execution_count": null,
      "outputs": []
    },
    {
      "cell_type": "code",
      "metadata": {
        "id": "dog8EMzd2xaI",
        "colab": {
          "base_uri": "https://localhost:8080/",
          "height": 265
        },
        "outputId": "31301c53-7129-4fbb-f171-b49bee7e8dcc"
      },
      "source": [
        "plt.imshow(digits[1])"
      ],
      "execution_count": null,
      "outputs": [
        {
          "output_type": "display_data",
          "data": {
            "image/png": "[encoded data removed]",
            "text/plain": [
              "<Figure size 432x288 with 1 Axes>"
            ]
          },
          "metadata": {
            "tags": [],
            "needs_background": "light"
          }
        }
      ]
    },
    {
      "cell_type": "code",
      "metadata": {
        "id": "g76iRw2g2xgp",
        "colab": {
          "base_uri": "https://localhost:8080/",
          "height": 282
        },
        "outputId": "fbc8fa79-f5a1-4490-f255-018cb1490066"
      },
      "source": [
        "X = digits[1]\n",
        "\n",
        "pca = PCA(n_components=2)\n",
        "pca.fit(X)\n",
        "plt.imshow(pca.inverse_transform(pca.transform(X)))"
      ],
      "execution_count": null,
      "outputs": [
        {
          "output_type": "execute_result",
          "data": {
            "text/plain": [
              "<matplotlib.image.AxesImage at 0x7fb0917b6630>"
            ]
          },
          "metadata": {
            "tags": []
          },
          "execution_count": 11
        },
        {
          "output_type": "display_data",
          "data": {
            "image/png": "[encoded data removed]",
            "text/plain": [
              "<Figure size 432x288 with 1 Axes>"
            ]
          },
          "metadata": {
            "tags": [],
            "needs_background": "light"
          }
        }
      ]
    },
    {
      "cell_type": "code",
      "metadata": {
        "id": "nhajmJq-2xlC",
        "colab": {
          "base_uri": "https://localhost:8080/"
        },
        "outputId": "33bd54c5-8607-4037-fcde-4cd3a06023ca"
      },
      "source": [
        "MSE(X, pca.inverse_transform(pca.transform(X)))"
      ],
      "execution_count": null,
      "outputs": [
        {
          "output_type": "execute_result",
          "data": {
            "text/plain": [
              "0.29382716424352084"
            ]
          },
          "metadata": {
            "tags": []
          },
          "execution_count": 12
        }
      ]
    },
    {
      "cell_type": "code",
      "metadata": {
        "id": "7eeISz9z2xnH",
        "colab": {
          "base_uri": "https://localhost:8080/"
        },
        "outputId": "ee7c5b95-a65d-4aa6-b4c1-fefb49f2e132"
      },
      "source": [
        "digits = load_digits()['data']\n",
        "def get_mse(X, n_components):\n",
        "  X = X.reshape((8,8))\n",
        "  pca = PCA(n_components=n_components)\n",
        "  pca.fit(X)\n",
        "  return MSE(X, pca.inverse_transform(pca.transform(X)))\n",
        "\n",
        "get_mse(digits[1], 3), get_mse(digits[1], 5)"
      ],
      "execution_count": null,
      "outputs": [
        {
          "output_type": "execute_result",
          "data": {
            "text/plain": [
              "(0.038943465847426625, 8.585795692078297e-31)"
            ]
          },
          "metadata": {
            "tags": []
          },
          "execution_count": 14
        }
      ]
    },
    {
      "cell_type": "code",
      "metadata": {
        "id": "JET366dp2xjO"
      },
      "source": [
        "score = []\n",
        "components = []\n",
        "for component in range(1, 9):\n",
        "  score.append(np.apply_along_axis(get_mse, 1, digits, n_components=component).mean())\n",
        "  components.append(component)"
      ],
      "execution_count": null,
      "outputs": []
    },
    {
      "cell_type": "code",
      "metadata": {
        "id": "YW1_xfqJ3-2Z",
        "colab": {
          "base_uri": "https://localhost:8080/",
          "height": 282
        },
        "outputId": "bca8ae67-2b2c-4a67-db4a-be74b9f501ee"
      },
      "source": [
        "plt.plot(components, score)"
      ],
      "execution_count": null,
      "outputs": [
        {
          "output_type": "execute_result",
          "data": {
            "text/plain": [
              "[<matplotlib.lines.Line2D at 0x7fb090f2a5c0>]"
            ]
          },
          "metadata": {
            "tags": []
          },
          "execution_count": 18
        },
        {
          "output_type": "display_data",
          "data": {
            "image/png": "[encoded data removed]",
            "text/plain": [
              "<Figure size 432x288 with 1 Axes>"
            ]
          },
          "metadata": {
            "tags": [],
            "needs_background": "light"
          }
        }
      ]
    },
    {
      "cell_type": "markdown",
      "metadata": {
        "id": "7NbOqiKFJ-et"
      },
      "source": [
        "Наглядно"
      ]
    },
    {
      "cell_type": "code",
      "metadata": {
        "colab": {
          "base_uri": "https://localhost:8080/",
          "height": 374
        },
        "id": "Tecf_PTZJ8eg",
        "outputId": "1a12e6dd-bf27-4420-a8e7-cfeabcf8afef"
      },
      "source": [
        "import pandas as pd\n",
        "import matplotlib.pyplot as plt\n",
        "from sklearn import decomposition\n",
        "from sklearn.decomposition import PCA\n",
        "from sklearn import datasets\n",
        "from sklearn.metrics import mean_squared_error\n",
        "\n",
        "digits = datasets.load_digits()\n",
        "X = digits.data\n",
        "# y = digits.target\n",
        "# f, axes = plt.subplots(5, 2, sharey=True, figsize=(16,6))\n",
        "plt.figure(figsize=(16, 6))\n",
        "for i in range(10):\n",
        "    plt.subplot(2, 5, i + 1)\n",
        "    plt.imshow(X[i,:].reshape([8,8]))"
      ],
      "execution_count": null,
      "outputs": [
        {
          "output_type": "display_data",
          "data": {
            "image/png": "[encoded data removed]",
            "text/plain": [
              "<Figure size 1152x432 with 10 Axes>"
            ]
          },
          "metadata": {
            "tags": [],
            "needs_background": "light"
          }
        }
      ]
    },
    {
      "cell_type": "code",
      "metadata": {
        "colab": {
          "base_uri": "https://localhost:8080/",
          "height": 374
        },
        "id": "0K4jRMx8J8g8",
        "outputId": "3e7a6cd2-9ac6-402c-9472-90b4c2be4e0b"
      },
      "source": [
        "pca = decomposition.PCA(n_components=2)\n",
        "X_reduced = pca.fit_transform(X)\n",
        "X1 = pca.inverse_transform(X_reduced)\n",
        "plt.figure(figsize=(16, 6))\n",
        "for i in range(10):\n",
        "    plt.subplot(2, 5, i + 1)\n",
        "    plt.imshow(X1[i,:].reshape([8,8]))"
      ],
      "execution_count": null,
      "outputs": [
        {
          "output_type": "display_data",
          "data": {
            "image/png": "[encoded data removed]",
            "text/plain": [
              "<Figure size 1152x432 with 10 Axes>"
            ]
          },
          "metadata": {
            "tags": [],
            "needs_background": "light"
          }
        }
      ]
    },
    {
      "cell_type": "code",
      "metadata": {
        "colab": {
          "base_uri": "https://localhost:8080/",
          "height": 404
        },
        "id": "afBykfZPJ8jH",
        "outputId": "4a0a4fb5-e513-4e6b-f3bf-dc6962db37cf"
      },
      "source": [
        "def mse(n):\n",
        "        pca = decomposition.PCA(n_components=n)\n",
        "        X_reduced = pca.fit_transform(X)\n",
        "        X1 = pca.inverse_transform(X_reduced)\n",
        "        MSE = mean_squared_error(X, X1)\n",
        "        return MSE\n",
        "\n",
        "df = pd.DataFrame([mse(n) for n in range(64)])\n",
        "df['quality'] = abs(((df[0]-df[0][0]))/(df[0][63]))/(10**27)\n",
        "plt.figure(figsize=(13,6))\n",
        "plt.plot(df['quality'], color='b', lw=3)\n",
        "plt.title('Зависимость качества восстановления рукописных цифр (MNIST) от различного количества компонент PCA')\n",
        "plt.xlabel('Number of components')\n",
        "plt.ylabel('Quality %')\n",
        "plt.show()"
      ],
      "execution_count": null,
      "outputs": [
        {
          "output_type": "display_data",
          "data": {
            "image/png": "[encoded data removed]",
            "text/plain": [
              "<Figure size 936x432 with 1 Axes>"
            ]
          },
          "metadata": {
            "tags": [],
            "needs_background": "light"
          }
        }
      ]
    },
    {
      "cell_type": "markdown",
      "metadata": {
        "id": "ICBPWeesl4sL"
      },
      "source": [
        "Просто и наглядно"
      ]
    },
    {
      "cell_type": "code",
      "metadata": {
        "colab": {
          "base_uri": "https://localhost:8080/",
          "height": 292
        },
        "id": "DGnI7aYXljaM",
        "outputId": "edf2e846-f9c6-4fad-c8b2-efe8953924a2"
      },
      "source": [
        "from sklearn.datasets import load_digits\n",
        "from sklearn.decomposition import PCA\n",
        "from sklearn.metrics import mean_squared_error\n",
        "\n",
        "X, y = load_digits(return_X_y=True)\n",
        "img = X[0]\n",
        "img = img.reshape((8,8))\n",
        "\n",
        "plt.gray() \n",
        "plt.matshow(img) \n",
        "plt.show()"
      ],
      "execution_count": null,
      "outputs": [
        {
          "output_type": "display_data",
          "data": {
            "text/plain": [
              "<Figure size 432x288 with 0 Axes>"
            ]
          },
          "metadata": {
            "tags": []
          }
        },
        {
          "output_type": "display_data",
          "data": {
            "image/png": "[encoded data removed]",
            "text/plain": [
              "<Figure size 288x288 with 1 Axes>"
            ]
          },
          "metadata": {
            "tags": [],
            "needs_background": "light"
          }
        }
      ]
    },
    {
      "cell_type": "code",
      "metadata": {
        "id": "LMmSYldMlpqJ"
      },
      "source": [
        "m = []\n",
        "n = []\n",
        "\n",
        "for i in range(1,64):\n",
        "    m.append(i)\n",
        "    \n",
        "    pca = PCA(n_components=i)\n",
        "\n",
        "    pca.fit(X)\n",
        "    \n",
        "    X2 = pca.transform(X)\n",
        "    X3 = pca.inverse_transform(X2)\n",
        "    \n",
        "    k = mean_squared_error(X, X3)\n",
        "    n.append(k)"
      ],
      "execution_count": null,
      "outputs": []
    },
    {
      "cell_type": "code",
      "metadata": {
        "colab": {
          "base_uri": "https://localhost:8080/",
          "height": 297
        },
        "id": "wTAdXrRUlyXZ",
        "outputId": "39a705be-14fc-42fd-b1d7-d8de09e13f07"
      },
      "source": [
        "plt.plot(m,n)\n",
        "plt.grid(True)\n",
        "plt.xlabel(\"n_components\")\n",
        "plt.ylabel(\"MSE\")"
      ],
      "execution_count": null,
      "outputs": [
        {
          "output_type": "execute_result",
          "data": {
            "text/plain": [
              "Text(0, 0.5, 'MSE')"
            ]
          },
          "metadata": {
            "tags": []
          },
          "execution_count": 10
        },
        {
          "output_type": "display_data",
          "data": {
            "image/png": "[encoded data removed]",
            "text/plain": [
              "<Figure size 432x288 with 1 Axes>"
            ]
          },
          "metadata": {
            "tags": [],
            "needs_background": "light"
          }
        }
      ]
    }
  ]
}