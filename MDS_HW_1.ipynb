{
  "nbformat": 4,
  "nbformat_minor": 0,
  "metadata": {
    "colab": {
      "name": "MDS - HW_1",
      "provenance": [],
      "collapsed_sections": [],
      "toc_visible": true
    },
    "kernelspec": {
      "display_name": "Python 3",
      "name": "python3"
    }
  },
  "cells": [
    {
      "cell_type": "markdown",
      "metadata": {
        "id": "WqBCLmHi6zi5"
      },
      "source": [
        "# Домашнее задание \"Линейная алгебра. Векторы\"."
      ]
    },
    {
      "cell_type": "markdown",
      "metadata": {
        "id": "HMnHRUdC62Wm"
      },
      "source": [
        "Даны вектора x=(1,1), y=(2, 0) и z = (0,2).\n",
        "\n",
        "Надо:\n",
        "\n",
        "- Изобразить вектора на экране\n",
        "\n",
        "- Изобразить точку x + y + z\n",
        "\n",
        "- Найти угол между векторами x и y\n",
        "\n",
        "\n"
      ]
    },
    {
      "cell_type": "code",
      "metadata": {
        "id": "1GrXBTd-ACav"
      },
      "source": [
        "import numpy as np\n",
        "import math\n",
        "import pandas as pd\n",
        "import matplotlib.pyplot as plt"
      ],
      "execution_count": null,
      "outputs": []
    },
    {
      "cell_type": "code",
      "metadata": {
        "id": "Y3as0sTd4ijR",
        "colab": {
          "base_uri": "https://localhost:8080/",
          "height": 265
        },
        "outputId": "bd491a94-3a63-4369-e06d-93da19bb01f7"
      },
      "source": [
        "x = np.array([1, 1])\n",
        "y = np.array([2, 0])\n",
        "z = np.array([0, 2])\n",
        "\n",
        "result = x + y + z\n",
        "result\n",
        "\n",
        "plt.plot((0, 1), (0, 1), 'b', marker='x')     # Вектор х\n",
        "plt.plot((0, 2), (0, 0), 'r', marker='x')     # Вектор y\n",
        "plt.plot((0, 0), (0, 2), 'g', marker='x')     # Вектор z\n",
        "plt.plot((0, result[0]), (0, result[1]), 'y') # Вектор x + y + z\n",
        "plt.grid()\n",
        "plt.show()"
      ],
      "execution_count": null,
      "outputs": [
        {
          "output_type": "display_data",
          "data": {
            "image/png": "[encoded data removed]",
            "text/plain": [
              "<Figure size 432x288 with 1 Axes>"
            ]
          },
          "metadata": {
            "tags": [],
            "needs_background": "light"
          }
        }
      ]
    },
    {
      "cell_type": "code",
      "metadata": {
        "id": "5wnwZJG04ilh",
        "colab": {
          "base_uri": "https://localhost:8080/"
        },
        "outputId": "b8a0e68a-86bf-45bb-f15a-47aaa230ff2f"
      },
      "source": [
        "# Угол между векторами x и y\n",
        "# Длины векторов\n",
        "x_mod = np.linalg.norm(x)\n",
        "y_mod = np.linalg.norm(y)\n",
        "\n",
        "# Косинус угла между векторами\n",
        "cos_xy = np.dot(x, y)/(x_mod * y_mod)\n",
        "\n",
        "# Расчёт угла\n",
        "degree_xy = round(math.degrees(math.acos(cos_xy)), 2)\n",
        "\n",
        "print(f'Угол между векторами равен {math.acos(cos_xy)} rad = {round(degree_xy, 2)}\\u00B0')"
      ],
      "execution_count": null,
      "outputs": [
        {
          "output_type": "stream",
          "text": [
            "Угол между векторами равен 0.7853981633974484 rad = 45.0°\n"
          ],
          "name": "stdout"
        }
      ]
    },
    {
      "cell_type": "code",
      "metadata": {
        "colab": {
          "base_uri": "https://localhost:8080/"
        },
        "id": "nEvN7NrWNpdt",
        "outputId": "c0052b65-f1cb-401f-d7fd-5c8356a459c9"
      },
      "source": [
        "np.degrees(np.arccos(np.dot(x, y)/(np.linalg.norm(x)*np.linalg.norm(y))))"
      ],
      "execution_count": null,
      "outputs": [
        {
          "output_type": "execute_result",
          "data": {
            "text/plain": [
              "45.00000000000001"
            ]
          },
          "metadata": {
            "tags": []
          },
          "execution_count": 8
        }
      ]
    },
    {
      "cell_type": "markdown",
      "metadata": {
        "id": "aDBIL89p4gwY"
      },
      "source": [
        "*Или*"
      ]
    },
    {
      "cell_type": "code",
      "metadata": {
        "id": "dCahUBTd6mtV",
        "colab": {
          "base_uri": "https://localhost:8080/",
          "height": 282
        },
        "outputId": "c1d87963-cd8a-4c16-c1d2-5ec61658bab6"
      },
      "source": [
        "x = np.array([1, 1])\n",
        "y = np.array([2, 0])\n",
        "z = np.array([0, 2])\n",
        "\n",
        "new_point = x + y + z\n",
        "\n",
        "plt.figure()\n",
        "plt.grid()\n",
        "plt.plot(*x, 'o')\n",
        "plt.plot(*y, 'o')\n",
        "plt.plot(*z, 'o')\n",
        "plt.plot(*new_point, 'x')"
      ],
      "execution_count": null,
      "outputs": [
        {
          "output_type": "execute_result",
          "data": {
            "text/plain": [
              "[<matplotlib.lines.Line2D at 0x7fd1d82bf9b0>]"
            ]
          },
          "metadata": {
            "tags": []
          },
          "execution_count": 5
        },
        {
          "output_type": "display_data",
          "data": {
            "image/png": "[encoded data removed]",
            "text/plain": [
              "<Figure size 432x288 with 1 Axes>"
            ]
          },
          "metadata": {
            "tags": [],
            "needs_background": "light"
          }
        }
      ]
    },
    {
      "cell_type": "code",
      "metadata": {
        "id": "QpD7Rlu76mxU",
        "colab": {
          "base_uri": "https://localhost:8080/"
        },
        "outputId": "132b9bc2-0961-497d-e729-b231f41a8951"
      },
      "source": [
        "def get_norm_vector(vector):\n",
        "    return vector / np.linalg.norm(vector)\n",
        "\n",
        "def get_angle(vector1, vector2): \n",
        "    vector1_norm = get_norm_vector(vector1) \n",
        "    vector2_norm = get_norm_vector(vector2) \n",
        "    return np.arccos(np.clip(np.dot(vector1_norm, vector2_norm), -1.0, 1.0)) \n",
        "\n",
        "alpha = get_angle(x, y)\n",
        "print(f'Угол между векторами равен {alpha} rad = {round(alpha * 180 / np.pi, 2)}\\u00B0')"
      ],
      "execution_count": null,
      "outputs": [
        {
          "output_type": "stream",
          "text": [
            "Угол между векторами равен 0.7853981633974484 rad = 45.0°\n"
          ],
          "name": "stdout"
        }
      ]
    }
  ]
}