{
  "nbformat": 4,
  "nbformat_minor": 0,
  "metadata": {
    "colab": {
      "name": "MDS - HW_9",
      "provenance": [],
      "collapsed_sections": []
    },
    "kernelspec": {
      "name": "python3",
      "display_name": "Python 3"
    }
  },
  "cells": [
    {
      "cell_type": "markdown",
      "metadata": {
        "id": "qwO9tOrkuCm9"
      },
      "source": [
        "# Домашнее задание \"Центральная Предельная Теорема и Закон Больших Чисел\"."
      ]
    },
    {
      "cell_type": "markdown",
      "metadata": {
        "id": "l-l_c2P8EEt0"
      },
      "source": [
        "В этом задании нужно убедиться, что ЦПТ действительно работает."
      ]
    },
    {
      "cell_type": "markdown",
      "metadata": {
        "id": "nd0SHANiEFpB"
      },
      "source": [
        "### Задание:"
      ]
    },
    {
      "cell_type": "markdown",
      "metadata": {
        "id": "9mfmxNTAGDcp"
      },
      "source": [
        "\n",
        "Создайте случайную величину из любого выбранного вами распределения, для разных значений n сгенерируйте 1000 выборок размера n и постройте гистрограммы средних этих выборок."
      ]
    },
    {
      "cell_type": "code",
      "metadata": {
        "id": "jKTPHkCzEE3r"
      },
      "source": [
        "import pandas as pd\n",
        "import numpy as np\n",
        "import matplotlib.pyplot as plt\n",
        "import scipy.stats as sts\n",
        "%matplotlib inline\n",
        "import random"
      ],
      "execution_count": null,
      "outputs": []
    },
    {
      "cell_type": "code",
      "metadata": {
        "id": "xtTkrAuNEE51"
      },
      "source": [
        "rv = sts.expon(0.5)\n",
        "sample = rv.rvs(size=1000)"
      ],
      "execution_count": null,
      "outputs": []
    },
    {
      "cell_type": "code",
      "metadata": {
        "id": "xt65H3iDEE8M",
        "colab": {
          "base_uri": "https://localhost:8080/",
          "height": 279
        },
        "outputId": "d8241d2e-21bf-4c05-eda8-1a0b2ad93933"
      },
      "source": [
        "x = np.linspace(0,2,100)\n",
        "pdf = rv.pdf(x)\n",
        "plt.hist(sample, density=True, bins=30, label='sample histogram')\n",
        "plt.plot(x, pdf, label='theoretical pdf', alpha=0.5)\n",
        "plt.legend()\n",
        "plt.ylabel('fraction of samples, $f(x)$')\n",
        "plt.xlabel('$x$')\n",
        "plt.show()"
      ],
      "execution_count": null,
      "outputs": [
        {
          "output_type": "display_data",
          "data": {
            "image/png": "[encoded data removed]",
            "text/plain": [
              "<Figure size 432x288 with 1 Axes>"
            ]
          },
          "metadata": {
            "tags": [],
            "needs_background": "light"
          }
        }
      ]
    },
    {
      "cell_type": "code",
      "metadata": {
        "id": "x9V5hMAzEGHl"
      },
      "source": [
        "# Параметры запуска: размеры выборок и количество повторов генерации\n",
        "samples_count = 1000\n",
        "# Массивы для сохранения средних по выборкам\n",
        "a1 = np.array([])\n",
        "for number in range(samples_count):\n",
        "    n1 = random.randint(100, 10000)\n",
        "    sample1 = rv.rvs(size=n1)\n",
        "    a1 = np.append(a1, sample1.mean())"
      ],
      "execution_count": null,
      "outputs": []
    },
    {
      "cell_type": "code",
      "metadata": {
        "id": "A68iPNYlEGJz",
        "colab": {
          "base_uri": "https://localhost:8080/",
          "height": 297
        },
        "outputId": "270f7827-95ef-4ad0-e124-34f053dfd5cc"
      },
      "source": [
        "# Строим графики\n",
        "# Подписи для графиков\n",
        "label_1 = 'sample of ' + str(n1) + ' histogram'\n",
        "plt.hist(a1, density=True, label=label_1, bins = 100)\n",
        "plt.legend()\n",
        "plt.ylabel('samples means')\n",
        "plt.xlabel('$x$')"
      ],
      "execution_count": null,
      "outputs": [
        {
          "output_type": "execute_result",
          "data": {
            "text/plain": [
              "Text(0.5, 0, '$x$')"
            ]
          },
          "metadata": {
            "tags": []
          },
          "execution_count": 5
        },
        {
          "output_type": "display_data",
          "data": {
            "image/png": "[encoded data removed]",
            "text/plain": [
              "<Figure size 432x288 with 1 Axes>"
            ]
          },
          "metadata": {
            "tags": [],
            "needs_background": "light"
          }
        }
      ]
    },
    {
      "cell_type": "markdown",
      "metadata": {
        "id": "6FjpBRA-GsYg"
      },
      "source": [
        "Чуть интереснее"
      ]
    },
    {
      "cell_type": "code",
      "metadata": {
        "id": "e2irDYZmEGL4"
      },
      "source": [
        "rv = sts.rayleigh(0.01) # Непрерывная случайная величина Р\n",
        "sample = rv.rvs(1000)"
      ],
      "execution_count": null,
      "outputs": []
    },
    {
      "cell_type": "code",
      "metadata": {
        "id": "2rdYpOhcEFGI",
        "colab": {
          "base_uri": "https://localhost:8080/",
          "height": 279
        },
        "outputId": "2bcfaf2a-2c4f-4ebd-dd1c-244e9602359e"
      },
      "source": [
        "x = np.linspace(0,2,100)\n",
        "pdf = rv.pdf(x)\n",
        "plt.hist(sample, density=True, bins=30, label='sample histogram')\n",
        "plt.plot(x, pdf, label='theoretical pdf', alpha=0.5)\n",
        "plt.legend()\n",
        "plt.ylabel('fraction of samples, $f(x)$')\n",
        "plt.xlabel('$x$')\n",
        "plt.show()"
      ],
      "execution_count": null,
      "outputs": [
        {
          "output_type": "display_data",
          "data": {
            "image/png": "[encoded data removed]",
            "text/plain": [
              "<Figure size 432x288 with 1 Axes>"
            ]
          },
          "metadata": {
            "tags": [],
            "needs_background": "light"
          }
        }
      ]
    },
    {
      "cell_type": "code",
      "metadata": {
        "id": "jfZVM99RGwfL"
      },
      "source": [
        "n05 = 5\n",
        "n10 = 10\n",
        "n50 = 50\n",
        "n250 = 250\n",
        "\n",
        "samples_count = 1000\n",
        "\n",
        "a05 = np.array([])\n",
        "a10 = np.array([])\n",
        "a50 = np.array([])\n",
        "a250 = np.array([])\n",
        "\n",
        "for number in range(samples_count):\n",
        "    # На каждом цикле генерируем выборки разных размеров\n",
        "    sample05 = rv.rvs(size=n05)\n",
        "    sample10 = rv.rvs(size=n10)\n",
        "    sample50 = rv.rvs(size=n50)\n",
        "    sample250 = rv.rvs(size=n250)\n",
        "    # Считаем среднее по каждой выборке и добавляем в массив средних\n",
        "    a05 = np.append(a05, sample05.mean())\n",
        "    a10 = np.append(a10, sample10.mean())\n",
        "    a50 = np.append(a50, sample50.mean())\n",
        "    a250 = np.append(a250, sample250.mean())"
      ],
      "execution_count": null,
      "outputs": []
    },
    {
      "cell_type": "code",
      "metadata": {
        "id": "TNait4ETGwhb",
        "colab": {
          "base_uri": "https://localhost:8080/",
          "height": 297
        },
        "outputId": "1f82179b-adee-4f8a-e038-64101c47b941"
      },
      "source": [
        "# Строим графики\n",
        "# Подписи для графиков\n",
        "label_1 = 'sample of ' + str(n05) + ' histogram'\n",
        "label_2 = 'sample of ' + str(n10) + ' histogram'\n",
        "label_3 = 'sample of ' + str(n50) + ' histogram'\n",
        "label_4 = 'sample of ' + str(n250) + ' histogram'\n",
        "\n",
        "plt.hist(a05, density=True, label=label_1)\n",
        "plt.hist(a10, density=True, label=label_2)\n",
        "plt.hist(a50, density=True, label=label_3)\n",
        "plt.hist(a250, density=True, label=label_4)\n",
        "\n",
        "\n",
        "plt.legend()\n",
        "plt.ylabel('samples means')\n",
        "plt.xlabel('$x$')"
      ],
      "execution_count": null,
      "outputs": [
        {
          "output_type": "execute_result",
          "data": {
            "text/plain": [
              "Text(0.5, 0, '$x$')"
            ]
          },
          "metadata": {
            "tags": []
          },
          "execution_count": 9
        },
        {
          "output_type": "display_data",
          "data": {
            "image/png": "[encoded data removed]",
            "text/plain": [
              "<Figure size 432x288 with 1 Axes>"
            ]
          },
          "metadata": {
            "tags": [],
            "needs_background": "light"
          }
        }
      ]
    }
  ]
}